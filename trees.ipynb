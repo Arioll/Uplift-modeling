{
 "cells": [
  {
   "cell_type": "markdown",
   "metadata": {},
   "source": [
    "# Hillstrom dataset"
   ]
  },
  {
   "cell_type": "code",
   "execution_count": 58,
   "metadata": {},
   "outputs": [],
   "source": [
    "from pprint import pprint\n",
    "\n",
    "import pandas as pd\n",
    "import matplotlib.pyplot as plt\n",
    "from sklift.metrics import uplift_at_k\n",
    "from sklift.viz import plot_uplift_curve\n",
    "from sklift.viz import plot_qini_curve\n",
    "import numpy as np\n",
    "from sklearn.model_selection import train_test_split\n",
    "import sklearn\n",
    "\n",
    "import warnings\n",
    "warnings.filterwarnings('ignore')\n"
   ]
  },
  {
   "cell_type": "code",
   "execution_count": 59,
   "metadata": {},
   "outputs": [],
   "source": [
    "import statsmodels.api as sm\n",
    "from xgboost import XGBRegressor\n",
    "from sklearn.linear_model import LinearRegression\n",
    "\n",
    "from causalml.inference.tree import UpliftRandomForestClassifier\n",
    "from causalml.dataset import *\n",
    "from econml.orf import DMLOrthoForest, DROrthoForest\n",
    "from econml.dml import CausalForestDML\n",
    "\n",
    "plt.style.use('fivethirtyeight')\n",
    "\n",
    "%matplotlib inline"
   ]
  },
  {
   "cell_type": "markdown",
   "metadata": {},
   "source": [
    "## Hillstrom"
   ]
  },
  {
   "cell_type": "code",
   "execution_count": 60,
   "metadata": {},
   "outputs": [],
   "source": [
    "df = pd.read_csv('Hillstrom.csv')\n",
    "df.drop(['history_segment', \"conversion\", \"spend\"], axis=1, inplace=True)\n",
    "\n",
    "cat_cols = ['zip_code', 'channel']\n",
    "df_ohe = pd.get_dummies(df, columns=cat_cols)\n",
    "df_ohe.segment = df_ohe.segment.map({'Womens E-Mail': 1, 'Mens E-Mail': 1, 'No E-Mail': 0})\n",
    "\n",
    "X = df_ohe.drop('visit', axis=1)\n",
    "y = df_ohe['visit']\n",
    "\n",
    "X_train, X_test, y_train, y_test = train_test_split(X, y, test_size=0.33, random_state=0)\n",
    "\n",
    "treat_train = X_train['segment']\n",
    "treat_test = X_test['segment']\n",
    "\n",
    "X_train.drop(['segment'], axis=1, inplace=True)\n",
    "X_test.drop(['segment'], axis=1, inplace=True)"
   ]
  },
  {
   "cell_type": "code",
   "execution_count": 64,
   "metadata": {},
   "outputs": [
    {
     "name": "stdout",
     "output_type": "stream",
     "text": [
      "UpliftRandomForest | Uplift at 30: 0.07239353705918017\n"
     ]
    }
   ],
   "source": [
    "rf_clf = UpliftRandomForestClassifier(n_estimators=100, control_name='0')\n",
    "\n",
    "rf_clf.fit(X_train.values,\n",
    "           treatment=treat_train.map(str).values,\n",
    "           y=y_train.values)\n",
    "\n",
    "y_pred = rf_clf.predict(X_test.values).reshape(-1)\n",
    "score = uplift_at_k(y_true=y_test, uplift=y_pred, treatment=treat_test, strategy='by_group', k=0.3)\n",
    "print(f\"UpliftRandomForest | Uplift at 30: {score}\")"
   ]
  },
  {
   "cell_type": "markdown",
   "metadata": {},
   "source": [
    "## Kuusito"
   ]
  },
  {
   "cell_type": "code",
   "execution_count": 65,
   "metadata": {},
   "outputs": [],
   "source": [
    "df = pd.read_csv('Kuusito.csv')\n",
    "df.drop(['customer_type'], axis=1, inplace=True)\n",
    "\n",
    "df = df.replace(r'Value', '', regex=True)\n",
    "df['target_control'] = df['target_control'].map({'control': 0, 'target': 1})\n",
    "df['outcome'] = df['outcome'].map({'negative': 0, 'positive': 1})\n",
    "\n",
    "X = df.drop('outcome', axis=1).astype('int64')\n",
    "y = df['outcome']\n",
    "\n",
    "X_train, X_test, y_train, y_test = train_test_split(X, y, test_size=0.33, random_state=0)\n",
    "\n",
    "treat_train = X_train['target_control']\n",
    "treat_test = X_test['target_control']\n",
    "\n",
    "X_train.drop(['target_control'], axis=1, inplace=True)\n",
    "X_test.drop(['target_control'], axis=1, inplace=True)"
   ]
  },
  {
   "cell_type": "code",
   "execution_count": 67,
   "metadata": {},
   "outputs": [
    {
     "name": "stdout",
     "output_type": "stream",
     "text": [
      "UpliftRandomForest | Uplift at 30: 0.19758691206543966\n"
     ]
    }
   ],
   "source": [
    "rf_clf = UpliftRandomForestClassifier(n_estimators=100, control_name='0')\n",
    "\n",
    "rf_clf.fit(X_train.values,\n",
    "           treatment=treat_train.map(str).values,\n",
    "           y=y_train.values)\n",
    "\n",
    "y_pred = rf_clf.predict(X_test.values).reshape(-1)\n",
    "score = uplift_at_k(y_true=y_test, uplift=y_pred, treatment=treat_test, strategy='by_group', k=0.3)\n",
    "print(f\"UpliftRandomForest | Uplift at 30: {score}\")"
   ]
  },
  {
   "cell_type": "markdown",
   "metadata": {},
   "source": [
    "## X5 Retail Hero"
   ]
  },
  {
   "cell_type": "code",
   "execution_count": 68,
   "metadata": {},
   "outputs": [],
   "source": [
    "df_clients = pd.read_csv('clients.csv', index_col='client_id')\n",
    "df_train = pd.read_csv('uplift_train.csv', index_col='client_id')\n",
    "df_test = pd.read_csv('uplift_test.csv', index_col='client_id')\n",
    "\n",
    "df_features = df_clients.copy()\n",
    "df_features['first_issue_time'] = \\\n",
    "    (pd.to_datetime(df_features['first_issue_date'])\n",
    "     - pd.to_datetime(df_features['first_issue_date']).min()) / pd.Timedelta('365d')\n",
    "\n",
    "df_features['first_redeem_time'] = \\\n",
    "    (pd.to_datetime(df_features['first_redeem_date'])\n",
    "     - pd.to_datetime(df_features['first_redeem_date']).min()) / pd.Timedelta('365d')\n",
    "\n",
    "df_features['issue_redeem_delay'] = df_features['first_redeem_time'] \\\n",
    "    - df_features['first_issue_time']\n",
    "\n",
    "df_features = df_features.join(pd.get_dummies(df_features['gender']))\n",
    "df_features['first_redeem_time'] = df_features['first_redeem_time'].fillna(df_features['first_redeem_time'].mean())\n",
    "df_features['issue_redeem_delay'] = df_features['issue_redeem_delay'].fillna(df_features['issue_redeem_delay'].mean())\n",
    "\n",
    "df_features = df_features.drop(['first_issue_date', 'first_redeem_date', 'gender'], axis=1)\n",
    "\n",
    "indices_train = df_train.index\n",
    "indices_test = df_test.index\n",
    "indices_learn, indices_valid = train_test_split(df_train.index, test_size=0.3, random_state=123)\n",
    "\n",
    "\n",
    "X_train = df_features.loc[indices_learn, :]\n",
    "y_train = df_train.loc[indices_learn, 'target']\n",
    "treat_train = df_train.loc[indices_learn, 'treatment_flg']\n",
    "\n",
    "X_val = df_features.loc[indices_valid, :]\n",
    "y_val = df_train.loc[indices_valid, 'target']\n",
    "treat_val =  df_train.loc[indices_valid, 'treatment_flg']\n",
    "\n",
    "X_train_full = df_features.loc[indices_train, :]\n",
    "y_train_full = df_train.loc[:, 'target']\n",
    "treat_train_full = df_train.loc[:, 'treatment_flg']\n",
    "\n",
    "X_test = df_features.loc[indices_test, :]\n",
    "\n",
    "cat_features = ['gender']"
   ]
  },
  {
   "cell_type": "code",
   "execution_count": 71,
   "metadata": {},
   "outputs": [
    {
     "name": "stdout",
     "output_type": "stream",
     "text": [
      "UpliftRandomForest | Uplift at 30: 0.05308883954198007\n"
     ]
    }
   ],
   "source": [
    "rf_clf = UpliftRandomForestClassifier(n_estimators=100, control_name='0')\n",
    "\n",
    "rf_clf.fit(X_train.values,\n",
    "           treatment=treat_train.map(str).values,\n",
    "           y=y_train.values)\n",
    "\n",
    "y_pred = rf_clf.predict(X_val.values).reshape(-1)\n",
    "score = uplift_at_k(y_true=y_val, uplift=y_pred, treatment=treat_val, strategy='by_group', k=0.3)\n",
    "print(f\"UpliftRandomForest | Uplift at 30: {score}\")"
   ]
  },
  {
   "cell_type": "code",
   "execution_count": null,
   "metadata": {},
   "outputs": [],
   "source": []
  }
 ],
 "metadata": {
  "kernelspec": {
   "display_name": "Python 3",
   "language": "python",
   "name": "python3"
  },
  "language_info": {
   "codemirror_mode": {
    "name": "ipython",
    "version": 3
   },
   "file_extension": ".py",
   "mimetype": "text/x-python",
   "name": "python",
   "nbconvert_exporter": "python",
   "pygments_lexer": "ipython3",
   "version": "3.8.5"
  }
 },
 "nbformat": 4,
 "nbformat_minor": 2
}
