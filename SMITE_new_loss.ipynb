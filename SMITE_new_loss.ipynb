{
  "nbformat": 4,
  "nbformat_minor": 5,
  "metadata": {
    "colab": {
      "name": "SMITE.ipynb",
      "provenance": [],
      "collapsed_sections": [],
      "toc_visible": true
    },
    "kernelspec": {
      "display_name": "Python 3.7 (tensorflow)",
      "language": "python",
      "name": "tensorflow"
    },
    "language_info": {
      "codemirror_mode": {
        "name": "ipython",
        "version": 3
      },
      "file_extension": ".py",
      "mimetype": "text/x-python",
      "name": "python",
      "nbconvert_exporter": "python",
      "pygments_lexer": "ipython3",
      "version": "3.7.9"
    }
  },
  "cells": [
    {
      "cell_type": "code",
      "metadata": {
        "colab": {
          "base_uri": "https://localhost:8080/"
        },
        "id": "hd4GqAxhLV_5",
        "outputId": "e799ec71-a299-4b14-860f-caeeb57998ae"
      },
      "source": [
        "!pip install scikit-uplift"
      ],
      "id": "hd4GqAxhLV_5",
      "execution_count": 3,
      "outputs": [
        {
          "output_type": "stream",
          "text": [
            "Collecting scikit-uplift\n",
            "  Downloading https://files.pythonhosted.org/packages/ee/5e/67da3dad4edd74e8b532ce8ed9b127d21146e7c7fad3cd7fd4e3a3c45e00/scikit_uplift-0.3.1-py3-none-any.whl\n",
            "Requirement already satisfied: scikit-learn>=0.21.0 in /usr/local/lib/python3.7/dist-packages (from scikit-uplift) (0.22.2.post1)\n",
            "Requirement already satisfied: matplotlib in /usr/local/lib/python3.7/dist-packages (from scikit-uplift) (3.2.2)\n",
            "Requirement already satisfied: pandas in /usr/local/lib/python3.7/dist-packages (from scikit-uplift) (1.1.5)\n",
            "Requirement already satisfied: requests in /usr/local/lib/python3.7/dist-packages (from scikit-uplift) (2.23.0)\n",
            "Requirement already satisfied: numpy>=1.16 in /usr/local/lib/python3.7/dist-packages (from scikit-uplift) (1.19.5)\n",
            "Requirement already satisfied: scipy>=0.17.0 in /usr/local/lib/python3.7/dist-packages (from scikit-learn>=0.21.0->scikit-uplift) (1.4.1)\n",
            "Requirement already satisfied: joblib>=0.11 in /usr/local/lib/python3.7/dist-packages (from scikit-learn>=0.21.0->scikit-uplift) (1.0.1)\n",
            "Requirement already satisfied: cycler>=0.10 in /usr/local/lib/python3.7/dist-packages (from matplotlib->scikit-uplift) (0.10.0)\n",
            "Requirement already satisfied: pyparsing!=2.0.4,!=2.1.2,!=2.1.6,>=2.0.1 in /usr/local/lib/python3.7/dist-packages (from matplotlib->scikit-uplift) (2.4.7)\n",
            "Requirement already satisfied: python-dateutil>=2.1 in /usr/local/lib/python3.7/dist-packages (from matplotlib->scikit-uplift) (2.8.1)\n",
            "Requirement already satisfied: kiwisolver>=1.0.1 in /usr/local/lib/python3.7/dist-packages (from matplotlib->scikit-uplift) (1.3.1)\n",
            "Requirement already satisfied: pytz>=2017.2 in /usr/local/lib/python3.7/dist-packages (from pandas->scikit-uplift) (2018.9)\n",
            "Requirement already satisfied: certifi>=2017.4.17 in /usr/local/lib/python3.7/dist-packages (from requests->scikit-uplift) (2020.12.5)\n",
            "Requirement already satisfied: chardet<4,>=3.0.2 in /usr/local/lib/python3.7/dist-packages (from requests->scikit-uplift) (3.0.4)\n",
            "Requirement already satisfied: urllib3!=1.25.0,!=1.25.1,<1.26,>=1.21.1 in /usr/local/lib/python3.7/dist-packages (from requests->scikit-uplift) (1.24.3)\n",
            "Requirement already satisfied: idna<3,>=2.5 in /usr/local/lib/python3.7/dist-packages (from requests->scikit-uplift) (2.10)\n",
            "Requirement already satisfied: six in /usr/local/lib/python3.7/dist-packages (from cycler>=0.10->matplotlib->scikit-uplift) (1.15.0)\n",
            "Installing collected packages: scikit-uplift\n",
            "Successfully installed scikit-uplift-0.3.1\n"
          ],
          "name": "stdout"
        }
      ]
    },
    {
      "cell_type": "code",
      "metadata": {
        "id": "6_TdkxbR8INi"
      },
      "source": [
        "from pprint import pprint\n",
        "\n",
        "from sklift.metrics import uplift_at_k, qini_auc_score\n",
        "\n",
        "import pandas as pd\n",
        "import numpy as np\n",
        "from sklearn.model_selection import train_test_split\n",
        "import matplotlib.pyplot as plt\n",
        "import torch\n",
        "\n",
        "import warnings\n",
        "warnings.filterwarnings('ignore')\n",
        "\n",
        "device = 'cuda' if torch.cuda.is_available() else 'cpu'"
      ],
      "id": "6_TdkxbR8INi",
      "execution_count": 1,
      "outputs": []
    },
    {
      "cell_type": "code",
      "metadata": {
        "id": "zTRmG4jZ9uHb"
      },
      "source": [
        "import torch\n",
        "import torch.nn as nn\n",
        "\n",
        "def indirect_loss_function(y_true, preds0, preds1, alpha, T, p, c=1e-7):\n",
        "\n",
        "    # preds0 is prediction for data with 0 treatment and preds1 is predictions for data with 1 treatment\n",
        "    denom1 = torch.maximum(preds0 + preds1, torch.ones(preds1.shape).to(device) * c)\n",
        "    Pi1 = preds1 / denom1\n",
        "    denom2 = torch.maximum((1 - preds0) + (1 - preds1), torch.ones(preds1.shape).to(device) * c)\n",
        "    Pi0 = (1 - preds1) / denom2\n",
        "    Pi = y_true * Pi1 + (1 - y_true) * Pi0\n",
        "    I = nn.functional.binary_cross_entropy(Pi, T)\n",
        "\n",
        "    preds = T * preds1 + (1 - T) * preds0\n",
        "    L = nn.functional.binary_cross_entropy(preds, y_true)\n",
        "\n",
        "    return alpha * L + (1 - alpha) * I\n",
        "\n",
        "def direct_loss_function(y_true, preds0, preds1, alpha, T, p):\n",
        "    #z = y_true * (T - p) / (p * (1 - p))\n",
        "    e_X = (T == 1).sum() / len(T) \n",
        "    z = (T * y_true) / e_X + ((1 - T) * y_true) / (1 - e_X)\n",
        "    vec = (z - preds1 + preds0)\n",
        "    J = vec.matmul(vec) / len(vec)\n",
        "    preds = T * preds1 + (1 - T) * preds0\n",
        "    L = nn.functional.binary_cross_entropy(preds, y_true)\n",
        "    return alpha * L + (1 - alpha) * J"
      ],
      "id": "zTRmG4jZ9uHb",
      "execution_count": 2,
      "outputs": []
    },
    {
      "cell_type": "code",
      "metadata": {
        "id": "Ob6NaE5VU-fK"
      },
      "source": [
        "from torch.utils.data import Dataset, DataLoader\n",
        "\n",
        "class RealDataset(Dataset):\n",
        "\n",
        "    def __init__(self, data, target=None, treatment=None):\n",
        "        super(RealDataset, self).__init__()\n",
        "        self.data = torch.from_numpy(data.values).type(torch.FloatTensor)\n",
        "        if target is not None:\n",
        "            self.target = torch.from_numpy(target.values).type(torch.FloatTensor)\n",
        "        if treatment is not None:\n",
        "            self.treatment = torch.from_numpy(treatment.values).type(torch.FloatTensor)\n",
        "\n",
        "    def __len__(self):\n",
        "        return len(self.data)\n",
        "\n",
        "    def __getitem__(self, idx):\n",
        "\n",
        "        # Make loader to give row with 0 treatment and row with 1 treatment for one query\n",
        "\n",
        "        m0 = torch.zeros((1, self.data.shape[1] + 1))\n",
        "        m0[:, :-1] = self.data[idx, :]\n",
        "        m0[:, -1] = 0\n",
        "        m1 = torch.zeros((1, self.data.shape[1] + 1))\n",
        "        m1[:, :-1] = self.data[idx, :]\n",
        "        m1[:, -1] = 1\n",
        "\n",
        "        if self.target is None:\n",
        "            return m0.squeeze().to(device), m1.squeeze().to(device)\n",
        "        else:\n",
        "            return (m0.squeeze().to(device), m1.squeeze().to(device), \n",
        "                    self.target[idx].to(device), self.treatment[idx].to(device))"
      ],
      "id": "Ob6NaE5VU-fK",
      "execution_count": 3,
      "outputs": []
    },
    {
      "cell_type": "markdown",
      "metadata": {
        "id": "9Ym0j6yRdw8J"
      },
      "source": [
        "# X5 Retail data"
      ],
      "id": "9Ym0j6yRdw8J"
    },
    {
      "cell_type": "code",
      "metadata": {
        "id": "dated-anthropology"
      },
      "source": [
        "%matplotlib inline\n",
        "df_clients = pd.read_csv('clients.csv', index_col='client_id')\n",
        "df_train = pd.read_csv('uplift_train.csv', index_col='client_id')\n",
        "df_test = pd.read_csv('uplift_test.csv', index_col='client_id')\n",
        "\n",
        "\n",
        "df_features = df_clients.copy()\n",
        "df_features['first_issue_time'] = \\\n",
        "    (pd.to_datetime(df_features['first_issue_date'])\n",
        "     - pd.to_datetime(df_features['first_issue_date']).min()) / pd.Timedelta('365d')\n",
        "\n",
        "df_features['first_redeem_time'] = \\\n",
        "    (pd.to_datetime(df_features['first_redeem_date'])\n",
        "     - pd.to_datetime(df_features['first_redeem_date']).min()) / pd.Timedelta('365d')\n",
        "\n",
        "df_features['issue_redeem_delay'] = df_features['first_redeem_time'] \\\n",
        "    - df_features['first_issue_time']\n",
        "\n",
        "df_features = df_features.join(pd.get_dummies(df_features['gender']))\n",
        "df_features['first_redeem_time'] = df_features['first_redeem_time'].fillna(df_features['first_redeem_time'].mean())\n",
        "df_features['issue_redeem_delay'] = df_features['issue_redeem_delay'].fillna(df_features['issue_redeem_delay'].mean())\n",
        "\n",
        "df_features = df_features.drop(['first_issue_date', 'first_redeem_date', 'gender'], axis=1)\n",
        "\n",
        "indices_train = df_train.index\n",
        "indices_test = df_test.index\n",
        "indices_learn, indices_valid = train_test_split(df_train.index, test_size=0.3, random_state=123)\n",
        "\n",
        "\n",
        "X_train = df_features.loc[indices_learn, :]\n",
        "y_train = df_train.loc[indices_learn, 'target']\n",
        "treat_train = df_train.loc[indices_learn, 'treatment_flg']\n",
        "\n",
        "X_val = df_features.loc[indices_valid, :]\n",
        "y_val = df_train.loc[indices_valid, 'target']\n",
        "treat_val =  df_train.loc[indices_valid, 'treatment_flg']\n",
        "\n",
        "X_train_full = df_features.loc[indices_train, :]\n",
        "y_train_full = df_train.loc[:, 'target']\n",
        "treat_train_full = df_train.loc[:, 'treatment_flg']\n",
        "\n",
        "X_test = df_features.loc[indices_test, :]\n",
        "\n",
        "cat_features = ['gender']"
      ],
      "id": "dated-anthropology",
      "execution_count": 4,
      "outputs": []
    },
    {
      "cell_type": "code",
      "metadata": {
        "id": "SET0WhHNRv0y"
      },
      "source": [
        "np.random.seed(42)\n",
        "torch.manual_seed(42)\n",
        "torch.cuda.manual_seed(42)"
      ],
      "id": "SET0WhHNRv0y",
      "execution_count": 5,
      "outputs": []
    },
    {
      "cell_type": "code",
      "metadata": {
        "id": "uRRkknrWYSRT"
      },
      "source": [
        "batch_size = 50\n",
        "\n",
        "train_dataset = RealDataset(X_train, y_train, treat_train)\n",
        "train_loader = DataLoader(train_dataset, batch_size=batch_size, shuffle=True)\n",
        "\n",
        "val_dataset = RealDataset(X_val, y_val, treat_val)\n",
        "val_loader = DataLoader(val_dataset, batch_size=batch_size, shuffle=False)"
      ],
      "id": "uRRkknrWYSRT",
      "execution_count": 6,
      "outputs": []
    },
    {
      "cell_type": "code",
      "metadata": {
        "id": "Ih15gQ99R4ka"
      },
      "source": [
        "input_dim = 8\n",
        "hidden_dims = [20, 20, 30, 10]\n",
        "dims = [input_dim] + hidden_dims + [1]\n",
        "\n",
        "layers = []\n",
        "for i in range(len(dims) - 1):\n",
        "    layers.append(nn.Linear(dims[i], dims[i+1]))\n",
        "    layers.append(nn.LeakyReLU())\n",
        "layers[-1] = nn.Sigmoid()\n",
        "model = nn.Sequential(*layers).to(device)"
      ],
      "id": "Ih15gQ99R4ka",
      "execution_count": 7,
      "outputs": []
    },
    {
      "cell_type": "code",
      "metadata": {
        "id": "TIs3-KJ5YxYx"
      },
      "source": [
        "optimizer = torch.optim.Adam(model.parameters(), lr=1e-3)"
      ],
      "id": "TIs3-KJ5YxYx",
      "execution_count": 8,
      "outputs": []
    },
    {
      "cell_type": "code",
      "metadata": {
        "colab": {
          "base_uri": "https://localhost:8080/"
        },
        "id": "l4Uc8HX2S7CG",
        "outputId": "c5c506d1-227f-45e9-d7bf-2a1ed0e7d444"
      },
      "source": [
        "N_EPOCHS = 100\n",
        "alpha = 0.8\n",
        "p = 0.5\n",
        "\n",
        "train_losses = []\n",
        "test_losses = []\n",
        "test_upl_at_k = []\n",
        "test_quini = []\n",
        "\n",
        "for i in range(N_EPOCHS):\n",
        "\n",
        "    loss_train = []\n",
        "\n",
        "    for data0, data1, target, treat in train_loader:\n",
        "        \n",
        "        optimizer.zero_grad()\n",
        "        preds0 = model(data0).squeeze()\n",
        "        preds1 = model(data1).squeeze()\n",
        "        loss = indirect_loss_function(target, preds0, preds1, alpha, treat, p)\n",
        "        loss.backward()\n",
        "        optimizer.step()\n",
        "        \n",
        "        loss_train.append(loss.item())\n",
        "    loss_train = np.mean(loss_train)\n",
        "\n",
        "    if i % 10 == 0 or i == N_EPOCHS - 1:\n",
        "        with torch.no_grad():\n",
        "            labels_val = []\n",
        "            preds_val = []\n",
        "            loss_val = []\n",
        "            upl_at_k_scores = []\n",
        "            quini_scores = []\n",
        "            for data0, data1, target, treat in val_loader:\n",
        "                labels_val += list(target)\n",
        "                preds0 = model(data0).squeeze()\n",
        "                preds1 = model(data1).squeeze()\n",
        "                loss = indirect_loss_function(target, preds0, preds1, alpha, treat, p)\n",
        "                preds_val += list(preds1 - preds0)\n",
        "                loss_val.append(loss.item())\n",
        "\n",
        "                score = uplift_at_k(target.cpu().numpy(), preds1 - preds0, treat.cpu().numpy(), strategy='by_group', k=0.3)\n",
        "                upl_at_k_scores.append(score)\n",
        "                score = qini_auc_score(target.cpu().numpy(), preds1 - preds0, treat.cpu().numpy())\n",
        "                quini_scores.append(score)\n",
        "\n",
        "            train_losses.append(loss_train)\n",
        "            test_losses.append(np.mean(loss_val))\n",
        "            test_upl_at_k.append(np.mean(upl_at_k_scores))\n",
        "            test_quini.append(np.mean(quini_scores))\n",
        "\n",
        "        print(f'Epoch {i} \\t Loss train {loss_train:.6f} \\t Loss test {np.mean(loss_val):.6f} \\t Uplift at k test {np.mean(upl_at_k_scores):.6f} \\t Quini AUC test {np.mean(quini_scores):.6f}')"
      ],
      "id": "l4Uc8HX2S7CG",
      "execution_count": 9,
      "outputs": [
        {
          "output_type": "stream",
          "text": [
            "Epoch 0 \t Loss train 0.669161 \t Loss test 0.668778 \t Uplift at k test 0.034172 \t Quini AUC test 0.004376\n",
            "Epoch 10 \t Loss train 0.659441 \t Loss test 0.660955 \t Uplift at k test 0.045266 \t Quini AUC test 0.005313\n",
            "Epoch 20 \t Loss train 0.656509 \t Loss test 0.655775 \t Uplift at k test 0.039694 \t Quini AUC test 0.007705\n",
            "Epoch 30 \t Loss train 0.655402 \t Loss test 0.655229 \t Uplift at k test 0.039955 \t Quini AUC test 0.006445\n",
            "Epoch 40 \t Loss train 0.655189 \t Loss test 0.656509 \t Uplift at k test 0.043516 \t Quini AUC test 0.008246\n",
            "Epoch 50 \t Loss train 0.654596 \t Loss test 0.656391 \t Uplift at k test 0.045156 \t Quini AUC test 0.007553\n",
            "Epoch 60 \t Loss train 0.654396 \t Loss test 0.655177 \t Uplift at k test 0.047011 \t Quini AUC test 0.011538\n",
            "Epoch 70 \t Loss train 0.653965 \t Loss test 0.654941 \t Uplift at k test 0.044733 \t Quini AUC test 0.006785\n",
            "Epoch 80 \t Loss train 0.653526 \t Loss test 0.654740 \t Uplift at k test 0.054619 \t Quini AUC test 0.013001\n",
            "Epoch 90 \t Loss train 0.653283 \t Loss test 0.656252 \t Uplift at k test 0.053992 \t Quini AUC test 0.013397\n",
            "Epoch 99 \t Loss train 0.653260 \t Loss test 0.654787 \t Uplift at k test 0.053756 \t Quini AUC test 0.012763\n"
          ],
          "name": "stdout"
        }
      ]
    },
    {
      "cell_type": "code",
      "metadata": {
        "id": "C6C5sQrgNvSz",
        "colab": {
          "base_uri": "https://localhost:8080/",
          "height": 610
        },
        "outputId": "7b12344f-48e2-484c-d3d4-f7bcfd90ac68"
      },
      "source": [
        "import matplotlib.pyplot as plt\n",
        "\n",
        "plt.figure(figsize=(15, 10))\n",
        "plt.plot(train_losses)\n",
        "plt.plot(test_losses)"
      ],
      "id": "C6C5sQrgNvSz",
      "execution_count": 10,
      "outputs": [
        {
          "output_type": "execute_result",
          "data": {
            "text/plain": [
              "[<matplotlib.lines.Line2D at 0x7f2bd8614350>]"
            ]
          },
          "metadata": {
            "tags": []
          },
          "execution_count": 10
        },
        {
          "output_type": "display_data",
          "data": {
            "image/png": "[encoded data removed]",
            "text/plain": [
              "<Figure size 1080x720 with 1 Axes>"
            ]
          },
          "metadata": {
            "tags": [],
            "needs_background": "light"
          }
        }
      ]
    },
    {
      "cell_type": "code",
      "metadata": {
        "colab": {
          "base_uri": "https://localhost:8080/",
          "height": 610
        },
        "id": "si_ZmZdnhvPr",
        "outputId": "8953dfd8-37bb-413b-f633-a4fd7df8d1d7"
      },
      "source": [
        "plt.figure(figsize=(15, 10))\n",
        "plt.plot(test_upl_at_k)"
      ],
      "id": "si_ZmZdnhvPr",
      "execution_count": 11,
      "outputs": [
        {
          "output_type": "execute_result",
          "data": {
            "text/plain": [
              "[<matplotlib.lines.Line2D at 0x7f2bd83ab750>]"
            ]
          },
          "metadata": {
            "tags": []
          },
          "execution_count": 11
        },
        {
          "output_type": "display_data",
          "data": {
            "image/png": "[encoded data removed]",
            "text/plain": [
              "<Figure size 1080x720 with 1 Axes>"
            ]
          },
          "metadata": {
            "tags": [],
            "needs_background": "light"
          }
        }
      ]
    },
    {
      "cell_type": "markdown",
      "metadata": {
        "id": "TUD2aL66QCWW"
      },
      "source": [
        "# Hillstrom data"
      ],
      "id": "TUD2aL66QCWW"
    },
    {
      "cell_type": "code",
      "metadata": {
        "id": "Cwrgq-paQByH"
      },
      "source": [
        "df = pd.read_csv('Hillstrom.csv')\n",
        "df.drop(['history_segment', \"conversion\", \"spend\"], axis=1, inplace=True)\n",
        "\n",
        "cat_cols = ['zip_code', 'channel']\n",
        "df_ohe = pd.get_dummies(df, columns=cat_cols)\n",
        "df_ohe.segment = df_ohe.segment.map({'Womens E-Mail': 1, 'Mens E-Mail': 1, 'No E-Mail': 0})\n",
        "\n",
        "X = df_ohe.drop('visit', axis=1)\n",
        "y = df_ohe['visit'].astype('int')\n",
        "\n",
        "X_train, X_test, y_train, y_test = train_test_split(X, y, test_size=0.33, random_state=0)\n",
        "\n",
        "treat_train = X_train['segment']\n",
        "treat_test = X_test['segment']\n",
        "\n",
        "X_train.drop(['segment'], axis=1, inplace=True)\n",
        "X_test.drop(['segment'], axis=1, inplace=True)"
      ],
      "id": "Cwrgq-paQByH",
      "execution_count": 82,
      "outputs": []
    },
    {
      "cell_type": "code",
      "metadata": {
        "colab": {
          "base_uri": "https://localhost:8080/"
        },
        "id": "7IKmEYFI0HKd",
        "outputId": "75069198-5618-44c7-c24d-4599a52d5295"
      },
      "source": [
        "len(X_train)"
      ],
      "id": "7IKmEYFI0HKd",
      "execution_count": 83,
      "outputs": [
        {
          "output_type": "execute_result",
          "data": {
            "text/plain": [
              "42880"
            ]
          },
          "metadata": {
            "tags": []
          },
          "execution_count": 83
        }
      ]
    },
    {
      "cell_type": "code",
      "metadata": {
        "id": "quxZDXV9R1sU"
      },
      "source": [
        "np.random.seed(42)\n",
        "torch.manual_seed(42)\n",
        "torch.cuda.manual_seed(42)"
      ],
      "id": "quxZDXV9R1sU",
      "execution_count": 84,
      "outputs": []
    },
    {
      "cell_type": "code",
      "metadata": {
        "id": "azWI-OYzQsMQ"
      },
      "source": [
        "batch_size = 50\n",
        "\n",
        "train_dataset = RealDataset(X_train, y_train, treat_train)\n",
        "train_loader = DataLoader(train_dataset, batch_size=batch_size, shuffle=True)\n",
        "\n",
        "test_dataset = RealDataset(X_test, y_test, treat_test)\n",
        "val_loader = DataLoader(test_dataset, batch_size=batch_size, shuffle=False)"
      ],
      "id": "azWI-OYzQsMQ",
      "execution_count": 85,
      "outputs": []
    },
    {
      "cell_type": "code",
      "metadata": {
        "id": "HUfLFlCrQ0XP"
      },
      "source": [
        "input_dim = X_train.values.shape[1] + 1\n",
        "hidden_dims = [20, 10, 10]\n",
        "dims = [input_dim] + hidden_dims + [1]\n",
        "\n",
        "layers = []\n",
        "for i in range(len(dims) - 1):\n",
        "    layers.append(nn.Linear(dims[i], dims[i+1]))\n",
        "    layers.append(nn.LeakyReLU())\n",
        "layers[-1] = nn.Sigmoid()\n",
        "model = nn.Sequential(*layers).to(device)"
      ],
      "id": "HUfLFlCrQ0XP",
      "execution_count": 86,
      "outputs": []
    },
    {
      "cell_type": "code",
      "metadata": {
        "id": "hLi7scbkSwhX"
      },
      "source": [
        "optimizer = torch.optim.Adam(model.parameters(), lr=1e-4)"
      ],
      "id": "hLi7scbkSwhX",
      "execution_count": 87,
      "outputs": []
    },
    {
      "cell_type": "code",
      "metadata": {
        "colab": {
          "base_uri": "https://localhost:8080/"
        },
        "id": "FKLNRMRIQ76y",
        "outputId": "1ab93594-07ac-42e1-b087-addd93abea65"
      },
      "source": [
        "N_EPOCHS = 150\n",
        "alpha = 0.8\n",
        "p = 0.5\n",
        "\n",
        "train_losses = []\n",
        "test_losses = []\n",
        "test_upl_at_k = []\n",
        "test_quini = []\n",
        "\n",
        "for i in range(N_EPOCHS):\n",
        "\n",
        "    loss_train = []\n",
        "\n",
        "    for data0, data1, target, treat in train_loader:\n",
        "        \n",
        "        optimizer.zero_grad()\n",
        "        preds0 = model(data0).squeeze()\n",
        "        preds1 = model(data1).squeeze()\n",
        "        loss = indirect_loss_function(target, preds0, preds1, alpha, treat, p)# + 0.01 * sum([(i ** 2).sum() for i in model.parameters()])\n",
        "        loss.backward()\n",
        "        optimizer.step()\n",
        "        \n",
        "        loss_train.append(loss.item())\n",
        "    loss_train = np.mean(loss_train)\n",
        "\n",
        "    if i % 10 == 0 or i == N_EPOCHS - 1:\n",
        "        with torch.no_grad():\n",
        "            labels_val = []\n",
        "            preds_val = []\n",
        "            treats_val = []\n",
        "            loss_val = []\n",
        "\n",
        "            for data0, data1, target, treat in val_loader:\n",
        "                preds0 = model(data0).squeeze()\n",
        "                preds1 = model(data1).squeeze()\n",
        "                loss = indirect_loss_function(target, preds0, preds1, alpha, treat, p)# + 0.01 * sum([(i ** 2).sum() for i in model.parameters()])\n",
        "\n",
        "                labels_val += list(target)\n",
        "                preds_val += list(preds1 - preds0)\n",
        "                treats_val += list(treat)\n",
        "                loss_val.append(loss.item())\n",
        "\n",
        "            upl_score = uplift_at_k(labels_val, preds_val, treats_val, strategy='by_group', k=0.3)\n",
        "            test_upl_at_k.append(upl_score)\n",
        "            quini_score = qini_auc_score(labels_val, preds_val, treats_val)\n",
        "            test_quini.append(quini_score)\n",
        "\n",
        "            train_losses.append(loss_train)\n",
        "            test_losses.append(np.mean(loss_val))\n",
        "\n",
        "        print(f'Epoch {i} \\t Loss train {loss_train:.6f} \\t Loss test {np.mean(loss_val):.6f} \\t Uplift at k test {upl_score:.6f} \\t Quini AUC test {quini_score:.6f}')"
      ],
      "id": "FKLNRMRIQ76y",
      "execution_count": 88,
      "outputs": [
        {
          "output_type": "stream",
          "text": [
            "Epoch 0 \t Loss train 0.602541 \t Loss test 0.550173 \t Uplift at k test 0.069443 \t Quini AUC test 0.015601\n",
            "Epoch 1 \t Loss train 0.503222 \t Loss test 0.482277 \t Uplift at k test 0.047182 \t Quini AUC test -0.014242\n",
            "Epoch 2 \t Loss train 0.481973 \t Loss test 0.477218 \t Uplift at k test 0.044653 \t Quini AUC test -0.013844\n",
            "Epoch 3 \t Loss train 0.479082 \t Loss test 0.474917 \t Uplift at k test 0.046104 \t Quini AUC test -0.014993\n",
            "Epoch 4 \t Loss train 0.476627 \t Loss test 0.472705 \t Uplift at k test 0.040027 \t Quini AUC test -0.016881\n",
            "Epoch 5 \t Loss train 0.474810 \t Loss test 0.472816 \t Uplift at k test 0.045861 \t Quini AUC test -0.014557\n",
            "Epoch 6 \t Loss train 0.473297 \t Loss test 0.469488 \t Uplift at k test 0.041668 \t Quini AUC test -0.014431\n",
            "Epoch 7 \t Loss train 0.471811 \t Loss test 0.468663 \t Uplift at k test 0.043181 \t Quini AUC test -0.016581\n",
            "Epoch 8 \t Loss train 0.470662 \t Loss test 0.466975 \t Uplift at k test 0.044115 \t Quini AUC test -0.020683\n",
            "Epoch 9 \t Loss train 0.469601 \t Loss test 0.466727 \t Uplift at k test 0.044640 \t Quini AUC test -0.021397\n",
            "Epoch 10 \t Loss train 0.468955 \t Loss test 0.465334 \t Uplift at k test 0.060713 \t Quini AUC test 0.003678\n",
            "Epoch 11 \t Loss train 0.467968 \t Loss test 0.464657 \t Uplift at k test 0.061479 \t Quini AUC test 0.009666\n",
            "Epoch 12 \t Loss train 0.467249 \t Loss test 0.464026 \t Uplift at k test 0.069471 \t Quini AUC test 0.017930\n",
            "Epoch 13 \t Loss train 0.466565 \t Loss test 0.464581 \t Uplift at k test 0.062861 \t Quini AUC test 0.011055\n",
            "Epoch 14 \t Loss train 0.466125 \t Loss test 0.464086 \t Uplift at k test 0.064274 \t Quini AUC test 0.011716\n",
            "Epoch 15 \t Loss train 0.465589 \t Loss test 0.466204 \t Uplift at k test 0.059078 \t Quini AUC test 0.010814\n",
            "Epoch 16 \t Loss train 0.465022 \t Loss test 0.462114 \t Uplift at k test 0.067009 \t Quini AUC test 0.016650\n",
            "Epoch 17 \t Loss train 0.464433 \t Loss test 0.462837 \t Uplift at k test 0.062321 \t Quini AUC test 0.013568\n",
            "Epoch 18 \t Loss train 0.464289 \t Loss test 0.461422 \t Uplift at k test 0.064920 \t Quini AUC test 0.011992\n",
            "Epoch 19 \t Loss train 0.463979 \t Loss test 0.461379 \t Uplift at k test 0.065375 \t Quini AUC test 0.013664\n",
            "Epoch 20 \t Loss train 0.463674 \t Loss test 0.460918 \t Uplift at k test 0.060870 \t Quini AUC test 0.009614\n",
            "Epoch 21 \t Loss train 0.463089 \t Loss test 0.463377 \t Uplift at k test 0.055407 \t Quini AUC test 0.010721\n",
            "Epoch 22 \t Loss train 0.463113 \t Loss test 0.461361 \t Uplift at k test 0.060156 \t Quini AUC test 0.009814\n",
            "Epoch 23 \t Loss train 0.462898 \t Loss test 0.460371 \t Uplift at k test 0.061553 \t Quini AUC test 0.011442\n",
            "Epoch 24 \t Loss train 0.462565 \t Loss test 0.460370 \t Uplift at k test 0.059464 \t Quini AUC test 0.005576\n",
            "Epoch 25 \t Loss train 0.462382 \t Loss test 0.460242 \t Uplift at k test 0.058036 \t Quini AUC test 0.005334\n",
            "Epoch 26 \t Loss train 0.462172 \t Loss test 0.461618 \t Uplift at k test 0.058279 \t Quini AUC test 0.011154\n",
            "Epoch 27 \t Loss train 0.461989 \t Loss test 0.459805 \t Uplift at k test 0.061735 \t Quini AUC test 0.013635\n",
            "Epoch 28 \t Loss train 0.461809 \t Loss test 0.459760 \t Uplift at k test 0.061287 \t Quini AUC test 0.011777\n",
            "Epoch 29 \t Loss train 0.461631 \t Loss test 0.459556 \t Uplift at k test 0.054913 \t Quini AUC test 0.007982\n",
            "Epoch 30 \t Loss train 0.461681 \t Loss test 0.459739 \t Uplift at k test 0.058233 \t Quini AUC test 0.010433\n",
            "Epoch 31 \t Loss train 0.461595 \t Loss test 0.459439 \t Uplift at k test 0.058446 \t Quini AUC test 0.012824\n",
            "Epoch 32 \t Loss train 0.461510 \t Loss test 0.459844 \t Uplift at k test 0.062723 \t Quini AUC test 0.011182\n",
            "Epoch 33 \t Loss train 0.461332 \t Loss test 0.459278 \t Uplift at k test 0.058233 \t Quini AUC test 0.010376\n",
            "Epoch 34 \t Loss train 0.461271 \t Loss test 0.459363 \t Uplift at k test 0.059464 \t Quini AUC test 0.008046\n",
            "Epoch 35 \t Loss train 0.461130 \t Loss test 0.459175 \t Uplift at k test 0.058689 \t Quini AUC test 0.012378\n",
            "Epoch 36 \t Loss train 0.460937 \t Loss test 0.459383 \t Uplift at k test 0.061067 \t Quini AUC test 0.011069\n",
            "Epoch 37 \t Loss train 0.460913 \t Loss test 0.459247 \t Uplift at k test 0.056410 \t Quini AUC test 0.009769\n",
            "Epoch 38 \t Loss train 0.460764 \t Loss test 0.460334 \t Uplift at k test 0.055865 \t Quini AUC test 0.002824\n",
            "Epoch 39 \t Loss train 0.460640 \t Loss test 0.464066 \t Uplift at k test 0.062528 \t Quini AUC test 0.002976\n",
            "Epoch 40 \t Loss train 0.460730 \t Loss test 0.462108 \t Uplift at k test 0.054982 \t Quini AUC test 0.005478\n",
            "Epoch 41 \t Loss train 0.460790 \t Loss test 0.459580 \t Uplift at k test 0.051646 \t Quini AUC test 0.006576\n",
            "Epoch 42 \t Loss train 0.460730 \t Loss test 0.458739 \t Uplift at k test 0.061425 \t Quini AUC test 0.009265\n",
            "Epoch 43 \t Loss train 0.460373 \t Loss test 0.459138 \t Uplift at k test 0.056602 \t Quini AUC test 0.002996\n",
            "Epoch 44 \t Loss train 0.460598 \t Loss test 0.458841 \t Uplift at k test 0.063194 \t Quini AUC test 0.014465\n",
            "Epoch 45 \t Loss train 0.460621 \t Loss test 0.459234 \t Uplift at k test 0.061349 \t Quini AUC test 0.012815\n",
            "Epoch 46 \t Loss train 0.460412 \t Loss test 0.458734 \t Uplift at k test 0.059935 \t Quini AUC test 0.010216\n",
            "Epoch 47 \t Loss train 0.460281 \t Loss test 0.459486 \t Uplift at k test 0.057688 \t Quini AUC test 0.004142\n",
            "Epoch 48 \t Loss train 0.460458 \t Loss test 0.459689 \t Uplift at k test 0.057800 \t Quini AUC test 0.009418\n",
            "Epoch 49 \t Loss train 0.460356 \t Loss test 0.458912 \t Uplift at k test 0.061151 \t Quini AUC test 0.008364\n",
            "Epoch 50 \t Loss train 0.460320 \t Loss test 0.459154 \t Uplift at k test 0.057747 \t Quini AUC test 0.010084\n",
            "Epoch 51 \t Loss train 0.460402 \t Loss test 0.458518 \t Uplift at k test 0.064418 \t Quini AUC test 0.013757\n",
            "Epoch 52 \t Loss train 0.460530 \t Loss test 0.458666 \t Uplift at k test 0.068818 \t Quini AUC test 0.011280\n",
            "Epoch 53 \t Loss train 0.460017 \t Loss test 0.460161 \t Uplift at k test 0.059738 \t Quini AUC test 0.009476\n",
            "Epoch 54 \t Loss train 0.460082 \t Loss test 0.458519 \t Uplift at k test 0.065839 \t Quini AUC test 0.013416\n",
            "Epoch 55 \t Loss train 0.460032 \t Loss test 0.458734 \t Uplift at k test 0.069289 \t Quini AUC test 0.014440\n",
            "Epoch 56 \t Loss train 0.460092 \t Loss test 0.458736 \t Uplift at k test 0.057048 \t Quini AUC test 0.010978\n",
            "Epoch 57 \t Loss train 0.459746 \t Loss test 0.458416 \t Uplift at k test 0.064615 \t Quini AUC test 0.014634\n",
            "Epoch 58 \t Loss train 0.459979 \t Loss test 0.458779 \t Uplift at k test 0.061144 \t Quini AUC test 0.011221\n",
            "Epoch 59 \t Loss train 0.460104 \t Loss test 0.458340 \t Uplift at k test 0.069722 \t Quini AUC test 0.015260\n",
            "Epoch 60 \t Loss train 0.460330 \t Loss test 0.458777 \t Uplift at k test 0.058013 \t Quini AUC test 0.013189\n",
            "Epoch 61 \t Loss train 0.460042 \t Loss test 0.459111 \t Uplift at k test 0.065529 \t Quini AUC test 0.013940\n",
            "Epoch 62 \t Loss train 0.460028 \t Loss test 0.458266 \t Uplift at k test 0.066834 \t Quini AUC test 0.017098\n",
            "Epoch 63 \t Loss train 0.460054 \t Loss test 0.459570 \t Uplift at k test 0.057329 \t Quini AUC test 0.009747\n",
            "Epoch 64 \t Loss train 0.459850 \t Loss test 0.458316 \t Uplift at k test 0.065595 \t Quini AUC test 0.017920\n",
            "Epoch 65 \t Loss train 0.459808 \t Loss test 0.463149 \t Uplift at k test 0.054229 \t Quini AUC test 0.005384\n",
            "Epoch 66 \t Loss train 0.459793 \t Loss test 0.459411 \t Uplift at k test 0.068104 \t Quini AUC test 0.018189\n",
            "Epoch 67 \t Loss train 0.459744 \t Loss test 0.458215 \t Uplift at k test 0.063422 \t Quini AUC test 0.015488\n",
            "Epoch 68 \t Loss train 0.459731 \t Loss test 0.458120 \t Uplift at k test 0.062907 \t Quini AUC test 0.015234\n",
            "Epoch 69 \t Loss train 0.459600 \t Loss test 0.459084 \t Uplift at k test 0.068278 \t Quini AUC test 0.021714\n",
            "Epoch 70 \t Loss train 0.459758 \t Loss test 0.458231 \t Uplift at k test 0.066865 \t Quini AUC test 0.013589\n",
            "Epoch 71 \t Loss train 0.459506 \t Loss test 0.458631 \t Uplift at k test 0.066402 \t Quini AUC test 0.018204\n",
            "Epoch 72 \t Loss train 0.459554 \t Loss test 0.458689 \t Uplift at k test 0.069934 \t Quini AUC test 0.020393\n",
            "Epoch 73 \t Loss train 0.459477 \t Loss test 0.458609 \t Uplift at k test 0.062974 \t Quini AUC test 0.014110\n",
            "Epoch 74 \t Loss train 0.459702 \t Loss test 0.458162 \t Uplift at k test 0.062928 \t Quini AUC test 0.018120\n",
            "Epoch 75 \t Loss train 0.459570 \t Loss test 0.458294 \t Uplift at k test 0.062237 \t Quini AUC test 0.015148\n",
            "Epoch 76 \t Loss train 0.459409 \t Loss test 0.458456 \t Uplift at k test 0.062951 \t Quini AUC test 0.016147\n",
            "Epoch 77 \t Loss train 0.459485 \t Loss test 0.458009 \t Uplift at k test 0.063865 \t Quini AUC test 0.011567\n",
            "Epoch 78 \t Loss train 0.459560 \t Loss test 0.458185 \t Uplift at k test 0.064548 \t Quini AUC test 0.014417\n",
            "Epoch 79 \t Loss train 0.459431 \t Loss test 0.460469 \t Uplift at k test 0.068713 \t Quini AUC test 0.015259\n",
            "Epoch 80 \t Loss train 0.459322 \t Loss test 0.458433 \t Uplift at k test 0.064991 \t Quini AUC test 0.010532\n",
            "Epoch 81 \t Loss train 0.459381 \t Loss test 0.458125 \t Uplift at k test 0.062838 \t Quini AUC test 0.017040\n",
            "Epoch 82 \t Loss train 0.459551 \t Loss test 0.458141 \t Uplift at k test 0.062147 \t Quini AUC test 0.016190\n",
            "Epoch 83 \t Loss train 0.459238 \t Loss test 0.459475 \t Uplift at k test 0.073559 \t Quini AUC test 0.023071\n",
            "Epoch 84 \t Loss train 0.459398 \t Loss test 0.458131 \t Uplift at k test 0.059654 \t Quini AUC test 0.016568\n",
            "Epoch 85 \t Loss train 0.459339 \t Loss test 0.458407 \t Uplift at k test 0.065040 \t Quini AUC test 0.016885\n",
            "Epoch 86 \t Loss train 0.459430 \t Loss test 0.458058 \t Uplift at k test 0.061927 \t Quini AUC test 0.018258\n",
            "Epoch 87 \t Loss train 0.459385 \t Loss test 0.457911 \t Uplift at k test 0.067997 \t Quini AUC test 0.021009\n",
            "Epoch 88 \t Loss train 0.459135 \t Loss test 0.458048 \t Uplift at k test 0.069144 \t Quini AUC test 0.022978\n",
            "Epoch 89 \t Loss train 0.459394 \t Loss test 0.457934 \t Uplift at k test 0.062997 \t Quini AUC test 0.020806\n",
            "Epoch 90 \t Loss train 0.459407 \t Loss test 0.458583 \t Uplift at k test 0.058218 \t Quini AUC test 0.010835\n",
            "Epoch 91 \t Loss train 0.459448 \t Loss test 0.458017 \t Uplift at k test 0.062746 \t Quini AUC test 0.017633\n",
            "Epoch 92 \t Loss train 0.459510 \t Loss test 0.458262 \t Uplift at k test 0.071568 \t Quini AUC test 0.024029\n",
            "Epoch 93 \t Loss train 0.459276 \t Loss test 0.458139 \t Uplift at k test 0.072351 \t Quini AUC test 0.025407\n",
            "Epoch 94 \t Loss train 0.459301 \t Loss test 0.457818 \t Uplift at k test 0.072177 \t Quini AUC test 0.022486\n",
            "Epoch 95 \t Loss train 0.459379 \t Loss test 0.461131 \t Uplift at k test 0.068493 \t Quini AUC test 0.015928\n",
            "Epoch 96 \t Loss train 0.459226 \t Loss test 0.458050 \t Uplift at k test 0.064745 \t Quini AUC test 0.020405\n",
            "Epoch 97 \t Loss train 0.459125 \t Loss test 0.458471 \t Uplift at k test 0.073080 \t Quini AUC test 0.026243\n",
            "Epoch 98 \t Loss train 0.459133 \t Loss test 0.458752 \t Uplift at k test 0.069944 \t Quini AUC test 0.019751\n",
            "Epoch 99 \t Loss train 0.459362 \t Loss test 0.457868 \t Uplift at k test 0.068309 \t Quini AUC test 0.018982\n",
            "Epoch 100 \t Loss train 0.459056 \t Loss test 0.457995 \t Uplift at k test 0.066788 \t Quini AUC test 0.020894\n",
            "Epoch 101 \t Loss train 0.459304 \t Loss test 0.458094 \t Uplift at k test 0.063263 \t Quini AUC test 0.018731\n",
            "Epoch 102 \t Loss train 0.459244 \t Loss test 0.458224 \t Uplift at k test 0.060627 \t Quini AUC test 0.016463\n",
            "Epoch 103 \t Loss train 0.459113 \t Loss test 0.458641 \t Uplift at k test 0.070103 \t Quini AUC test 0.022875\n",
            "Epoch 104 \t Loss train 0.459228 \t Loss test 0.457782 \t Uplift at k test 0.071265 \t Quini AUC test 0.018649\n",
            "Epoch 105 \t Loss train 0.459067 \t Loss test 0.459560 \t Uplift at k test 0.068029 \t Quini AUC test 0.019280\n",
            "Epoch 106 \t Loss train 0.459185 \t Loss test 0.459068 \t Uplift at k test 0.071790 \t Quini AUC test 0.020975\n",
            "Epoch 107 \t Loss train 0.459304 \t Loss test 0.461007 \t Uplift at k test 0.072793 \t Quini AUC test 0.016885\n",
            "Epoch 108 \t Loss train 0.459530 \t Loss test 0.459959 \t Uplift at k test 0.069640 \t Quini AUC test 0.019798\n",
            "Epoch 109 \t Loss train 0.459023 \t Loss test 0.458592 \t Uplift at k test 0.066333 \t Quini AUC test 0.016898\n",
            "Epoch 110 \t Loss train 0.459223 \t Loss test 0.457794 \t Uplift at k test 0.072571 \t Quini AUC test 0.025554\n",
            "Epoch 111 \t Loss train 0.459168 \t Loss test 0.458094 \t Uplift at k test 0.069517 \t Quini AUC test 0.024731\n",
            "Epoch 112 \t Loss train 0.459006 \t Loss test 0.458110 \t Uplift at k test 0.067351 \t Quini AUC test 0.018843\n",
            "Epoch 113 \t Loss train 0.458985 \t Loss test 0.457747 \t Uplift at k test 0.074069 \t Quini AUC test 0.022029\n",
            "Epoch 114 \t Loss train 0.458883 \t Loss test 0.457695 \t Uplift at k test 0.074714 \t Quini AUC test 0.025752\n",
            "Epoch 115 \t Loss train 0.459177 \t Loss test 0.457936 \t Uplift at k test 0.068173 \t Quini AUC test 0.015561\n",
            "Epoch 116 \t Loss train 0.458913 \t Loss test 0.457780 \t Uplift at k test 0.067223 \t Quini AUC test 0.016243\n",
            "Epoch 117 \t Loss train 0.459151 \t Loss test 0.458230 \t Uplift at k test 0.067047 \t Quini AUC test 0.016663\n",
            "Epoch 118 \t Loss train 0.459093 \t Loss test 0.457746 \t Uplift at k test 0.069829 \t Quini AUC test 0.016348\n",
            "Epoch 119 \t Loss train 0.459065 \t Loss test 0.458713 \t Uplift at k test 0.070377 \t Quini AUC test 0.022144\n",
            "Epoch 120 \t Loss train 0.459154 \t Loss test 0.458065 \t Uplift at k test 0.077146 \t Quini AUC test 0.030532\n",
            "Epoch 121 \t Loss train 0.458857 \t Loss test 0.457866 \t Uplift at k test 0.073628 \t Quini AUC test 0.022245\n",
            "Epoch 122 \t Loss train 0.458999 \t Loss test 0.458178 \t Uplift at k test 0.073211 \t Quini AUC test 0.022568\n",
            "Epoch 123 \t Loss train 0.459029 \t Loss test 0.459882 \t Uplift at k test 0.060611 \t Quini AUC test 0.012942\n",
            "Epoch 124 \t Loss train 0.458862 \t Loss test 0.458610 \t Uplift at k test 0.069783 \t Quini AUC test 0.016623\n",
            "Epoch 125 \t Loss train 0.458915 \t Loss test 0.458102 \t Uplift at k test 0.070293 \t Quini AUC test 0.025281\n",
            "Epoch 126 \t Loss train 0.459032 \t Loss test 0.457845 \t Uplift at k test 0.070155 \t Quini AUC test 0.027087\n",
            "Epoch 127 \t Loss train 0.458911 \t Loss test 0.457836 \t Uplift at k test 0.070428 \t Quini AUC test 0.026651\n",
            "Epoch 128 \t Loss train 0.458863 \t Loss test 0.458813 \t Uplift at k test 0.064715 \t Quini AUC test 0.017319\n",
            "Epoch 129 \t Loss train 0.459111 \t Loss test 0.458966 \t Uplift at k test 0.063811 \t Quini AUC test 0.017788\n",
            "Epoch 130 \t Loss train 0.458962 \t Loss test 0.459993 \t Uplift at k test 0.063698 \t Quini AUC test 0.010499\n",
            "Epoch 131 \t Loss train 0.459039 \t Loss test 0.458237 \t Uplift at k test 0.065383 \t Quini AUC test 0.017604\n",
            "Epoch 132 \t Loss train 0.458992 \t Loss test 0.457732 \t Uplift at k test 0.070421 \t Quini AUC test 0.027920\n",
            "Epoch 133 \t Loss train 0.458699 \t Loss test 0.458210 \t Uplift at k test 0.070879 \t Quini AUC test 0.020781\n",
            "Epoch 134 \t Loss train 0.458983 \t Loss test 0.458442 \t Uplift at k test 0.074716 \t Quini AUC test 0.024151\n",
            "Epoch 135 \t Loss train 0.458988 \t Loss test 0.458155 \t Uplift at k test 0.078369 \t Quini AUC test 0.032705\n",
            "Epoch 136 \t Loss train 0.458970 \t Loss test 0.457711 \t Uplift at k test 0.069494 \t Quini AUC test 0.025949\n",
            "Epoch 137 \t Loss train 0.458822 \t Loss test 0.458574 \t Uplift at k test 0.068613 \t Quini AUC test 0.015915\n",
            "Epoch 138 \t Loss train 0.458828 \t Loss test 0.459687 \t Uplift at k test 0.064564 \t Quini AUC test 0.015046\n",
            "Epoch 139 \t Loss train 0.458808 \t Loss test 0.458991 \t Uplift at k test 0.064479 \t Quini AUC test 0.014294\n",
            "Epoch 140 \t Loss train 0.459176 \t Loss test 0.457763 \t Uplift at k test 0.070490 \t Quini AUC test 0.020339\n",
            "Epoch 141 \t Loss train 0.458763 \t Loss test 0.458022 \t Uplift at k test 0.073933 \t Quini AUC test 0.018422\n",
            "Epoch 142 \t Loss train 0.459066 \t Loss test 0.457910 \t Uplift at k test 0.071296 \t Quini AUC test 0.027282\n",
            "Epoch 143 \t Loss train 0.458770 \t Loss test 0.457683 \t Uplift at k test 0.067587 \t Quini AUC test 0.023816\n",
            "Epoch 144 \t Loss train 0.458836 \t Loss test 0.459096 \t Uplift at k test 0.068158 \t Quini AUC test 0.017000\n",
            "Epoch 145 \t Loss train 0.458805 \t Loss test 0.457914 \t Uplift at k test 0.068142 \t Quini AUC test 0.020193\n",
            "Epoch 146 \t Loss train 0.458855 \t Loss test 0.459655 \t Uplift at k test 0.063250 \t Quini AUC test 0.011545\n",
            "Epoch 147 \t Loss train 0.458884 \t Loss test 0.457762 \t Uplift at k test 0.068529 \t Quini AUC test 0.028645\n",
            "Epoch 148 \t Loss train 0.458777 \t Loss test 0.457818 \t Uplift at k test 0.070224 \t Quini AUC test 0.030955\n",
            "Epoch 149 \t Loss train 0.458959 \t Loss test 0.457824 \t Uplift at k test 0.077373 \t Quini AUC test 0.032346\n"
          ],
          "name": "stdout"
        }
      ]
    },
    {
      "cell_type": "markdown",
      "metadata": {
        "id": "Ai7Eeoc2RLgf"
      },
      "source": [
        "# Kuusito data"
      ],
      "id": "Ai7Eeoc2RLgf"
    },
    {
      "cell_type": "code",
      "metadata": {
        "id": "o2oxPewyRLAQ"
      },
      "source": [
        "df = pd.read_csv('Kuusito.csv')\n",
        "df.drop(['customer_type'], axis=1, inplace=True)\n",
        "\n",
        "df = df.replace(r'Value', '', regex=True)\n",
        "df['target_control'] = df['target_control'].map({'control': 1, 'target': 0})\n",
        "df['outcome'] = df['outcome'].map({'negative': 0, 'positive': 1})\n",
        "\n",
        "df = pd.get_dummies(df,drop_first=True)\n",
        "\n",
        "X = df.drop('outcome', axis=1).astype('int64')\n",
        "y = df['outcome']\n",
        "\n",
        "X_train, X_test, y_train, y_test = train_test_split(X, y, test_size=0.33, random_state=0)\n",
        "\n",
        "treat_train = X_train['target_control']\n",
        "treat_test = X_test['target_control']\n",
        "\n",
        "X_train.drop(['target_control'], axis=1, inplace=True)\n",
        "X_test.drop(['target_control'], axis=1, inplace=True)\n",
        "X_train.drop(['customer_id'], axis=1, inplace=True)\n",
        "X_test.drop(['customer_id'], axis=1, inplace=True)"
      ],
      "id": "o2oxPewyRLAQ",
      "execution_count": 68,
      "outputs": []
    },
    {
      "cell_type": "code",
      "metadata": {
        "colab": {
          "base_uri": "https://localhost:8080/"
        },
        "id": "bhh8w-OOz-HU",
        "outputId": "8cf16a8d-7d82-4051-c263-68c4bf9cda07"
      },
      "source": [
        "len(X_train)"
      ],
      "id": "bhh8w-OOz-HU",
      "execution_count": 69,
      "outputs": [
        {
          "output_type": "execute_result",
          "data": {
            "text/plain": [
              "6700"
            ]
          },
          "metadata": {
            "tags": []
          },
          "execution_count": 69
        }
      ]
    },
    {
      "cell_type": "code",
      "metadata": {
        "id": "VLjzImehR0w6"
      },
      "source": [
        "np.random.seed(42)\n",
        "torch.manual_seed(42)\n",
        "torch.cuda.manual_seed(42)"
      ],
      "id": "VLjzImehR0w6",
      "execution_count": 70,
      "outputs": []
    },
    {
      "cell_type": "code",
      "metadata": {
        "id": "lboJshLaRWED"
      },
      "source": [
        "batch_size = 50\n",
        "\n",
        "train_dataset = RealDataset(X_train, y_train, treat_train)\n",
        "train_loader = DataLoader(train_dataset, batch_size=batch_size, shuffle=True)\n",
        "\n",
        "test_dataset = RealDataset(X_test, y_test, treat_test)\n",
        "val_loader = DataLoader(test_dataset, batch_size=batch_size, shuffle=False)"
      ],
      "id": "lboJshLaRWED",
      "execution_count": 71,
      "outputs": []
    },
    {
      "cell_type": "code",
      "metadata": {
        "id": "dhm0fCfIRc6i"
      },
      "source": [
        "input_dim = X_train.values.shape[1] + 1\n",
        "hidden_dims = [20, 10]\n",
        "dims = [input_dim] + hidden_dims + [1]\n",
        "\n",
        "layers = []\n",
        "for i in range(len(dims) - 1):\n",
        "    layers.append(nn.Linear(dims[i], dims[i+1]))\n",
        "    layers.append(nn.LeakyReLU())\n",
        "layers[-1] = nn.Sigmoid()\n",
        "model = nn.Sequential(*layers).to(device)"
      ],
      "id": "dhm0fCfIRc6i",
      "execution_count": 72,
      "outputs": []
    },
    {
      "cell_type": "code",
      "metadata": {
        "id": "BX0JWIv0yj-7"
      },
      "source": [
        "optimizer = torch.optim.Adam(model.parameters(), lr=1e-3)"
      ],
      "id": "BX0JWIv0yj-7",
      "execution_count": 73,
      "outputs": []
    },
    {
      "cell_type": "code",
      "metadata": {
        "colab": {
          "base_uri": "https://localhost:8080/"
        },
        "id": "EwMyF49lRfGy",
        "outputId": "dfee7335-732a-4f72-e186-232dd522ddd8"
      },
      "source": [
        "N_EPOCHS = 100\n",
        "alpha = 0.8\n",
        "p = 0.5\n",
        "\n",
        "train_losses = []\n",
        "test_losses = []\n",
        "test_upl_at_k = []\n",
        "test_quini = []\n",
        "\n",
        "for i in range(N_EPOCHS):\n",
        "\n",
        "    loss_train = []\n",
        "\n",
        "    for data0, data1, target, treat in train_loader:\n",
        "        \n",
        "        optimizer.zero_grad()\n",
        "        preds0 = model(data0).squeeze()\n",
        "        preds1 = model(data1).squeeze()\n",
        "        loss = indirect_loss_function(target, preds0, preds1, alpha, treat, p) + 0.01 * sum([(i ** 2).sum() for i in model.parameters()])\n",
        "        loss.backward()\n",
        "        optimizer.step()\n",
        "        \n",
        "        loss_train.append(loss.item())\n",
        "    loss_train = np.mean(loss_train)\n",
        "\n",
        "    if i % 10 == 0 or i == N_EPOCHS - 1:\n",
        "        with torch.no_grad():\n",
        "            labels_val = []\n",
        "            preds_val = []\n",
        "            loss_val = []\n",
        "            upl_at_k_scores = []\n",
        "            quini_scores = []\n",
        "            for data0, data1, target, treat in val_loader:\n",
        "                labels_val += list(target)\n",
        "                preds0 = model(data0).squeeze()\n",
        "                preds1 = model(data1).squeeze()\n",
        "                loss = indirect_loss_function(target, preds0, preds1, alpha, treat, p) + 0.01 * sum([(i ** 2).sum() for i in model.parameters()])\n",
        "                preds_val += list(preds1 - preds0)\n",
        "                loss_val.append(loss.item())\n",
        "\n",
        "                score = uplift_at_k(target.cpu().numpy(), preds1 - preds0, treat.cpu().numpy(), strategy='by_group', k=0.3)\n",
        "                upl_at_k_scores.append(score)\n",
        "                score = qini_auc_score(target.cpu().numpy(), preds1 - preds0, treat.cpu().numpy())\n",
        "                quini_scores.append(score)\n",
        "\n",
        "            train_losses.append(loss_train)\n",
        "            test_losses.append(np.mean(loss_val))\n",
        "            test_upl_at_k.append(np.mean(upl_at_k_scores))\n",
        "            test_quini.append(np.mean(quini_scores))\n",
        "\n",
        "        print(f'Epoch {i} \\t Loss train {loss_train:.6f} \\t Loss test {np.mean(loss_val):.6f} \\t Uplift at k test {np.mean(upl_at_k_scores):.6f} \\t Quini AUC test {np.mean(quini_scores):.6f}')"
      ],
      "id": "EwMyF49lRfGy",
      "execution_count": 74,
      "outputs": [
        {
          "output_type": "stream",
          "text": [
            "Epoch 0 \t Loss train 0.700026 \t Loss test 0.697960 \t Uplift at k test -0.019132 \t Quini AUC test -0.015107\n",
            "Epoch 10 \t Loss train 0.678457 \t Loss test 0.691131 \t Uplift at k test 0.098858 \t Quini AUC test 0.054540\n",
            "Epoch 30 \t Loss train 0.638988 \t Loss test 0.708529 \t Uplift at k test 0.170455 \t Quini AUC test 0.095124\n",
            "Epoch 40 \t Loss train 0.626728 \t Loss test 0.717712 \t Uplift at k test 0.202880 \t Quini AUC test 0.106490\n",
            "Epoch 50 \t Loss train 0.616477 \t Loss test 0.739045 \t Uplift at k test 0.192995 \t Quini AUC test 0.105062\n",
            "Epoch 60 \t Loss train 0.610881 \t Loss test 0.738534 \t Uplift at k test 0.176353 \t Quini AUC test 0.100603\n",
            "Epoch 70 \t Loss train 0.606990 \t Loss test 0.751618 \t Uplift at k test 0.191715 \t Quini AUC test 0.099734\n",
            "Epoch 80 \t Loss train 0.600085 \t Loss test 0.755374 \t Uplift at k test 0.197397 \t Quini AUC test 0.105962\n",
            "Epoch 90 \t Loss train 0.598750 \t Loss test 0.761357 \t Uplift at k test 0.188167 \t Quini AUC test 0.103648\n"
          ],
          "name": "stdout"
        }
      ]
    },
    {
      "cell_type": "markdown",
      "metadata": {
        "id": "zhq4n7nVdtfz"
      },
      "source": [
        "# Synthetic data"
      ],
      "id": "zhq4n7nVdtfz"
    },
    {
      "cell_type": "code",
      "metadata": {
        "id": "lCIIYTOq8VNf"
      },
      "source": [
        " !pip install causalml"
      ],
      "id": "lCIIYTOq8VNf",
      "execution_count": null,
      "outputs": []
    },
    {
      "cell_type": "code",
      "metadata": {
        "id": "PtOIyPos8xz3"
      },
      "source": [
        "from torch.utils.data import Dataset, DataLoader\n",
        "\n",
        "class SynthDataset(Dataset):\n",
        "\n",
        "    def __init__(self, data, target=None, treatment=None):\n",
        "        super(SynthDataset, self).__init__()\n",
        "        self.data = torch.from_numpy(data).type(torch.FloatTensor)\n",
        "        if target is not None:\n",
        "            self.target = torch.from_numpy(target).type(torch.FloatTensor)\n",
        "        if treatment is not None:\n",
        "            self.treatment = torch.from_numpy(treatment).type(torch.FloatTensor)\n",
        "\n",
        "    def __len__(self):\n",
        "        return len(self.data)\n",
        "\n",
        "    def __getitem__(self, idx):\n",
        "\n",
        "        # Make loader to give row with 0 treatment and row with 1 treatment for one query\n",
        "\n",
        "        m0 = torch.zeros((1, self.data.shape[1] + 1))\n",
        "        m0[:, :-1] = self.data[idx, :]\n",
        "        m0[:, -1] = 0\n",
        "        m1 = torch.zeros((1, self.data.shape[1] + 1))\n",
        "        m1[:, :-1] = self.data[idx, :]\n",
        "        m1[:, -1] = 1\n",
        "\n",
        "        if self.target is None:\n",
        "            return m0.squeeze().to(device), m1.squeeze().to(device)\n",
        "        else:\n",
        "            return (m0.squeeze().to(device), m1.squeeze().to(device), \n",
        "                    self.target[idx].to(device), self.treatment[idx].to(device))"
      ],
      "id": "PtOIyPos8xz3",
      "execution_count": 60,
      "outputs": []
    },
    {
      "cell_type": "code",
      "metadata": {
        "id": "QwogypxRRzky"
      },
      "source": [
        "np.random.seed(42)\n",
        "torch.manual_seed(42)\n",
        "torch.cuda.manual_seed(42)"
      ],
      "id": "QwogypxRRzky",
      "execution_count": null,
      "outputs": []
    },
    {
      "cell_type": "code",
      "metadata": {
        "id": "3VtE-UTV7twm"
      },
      "source": [
        "from causalml.dataset import *\n",
        "from sklearn.model_selection import train_test_split\n",
        "\n",
        "y, X, treatment, tau, b, e = synthetic_data(mode=2, n=50000, p=8, sigma=1.0)\n",
        "y = (y > np.median(y)).astype(int)\n",
        "X_train, X_test, y_train, y_test, treat_train, treat_test = train_test_split(X, y, treatment, test_size=0.33, random_state=0)\n",
        "\n",
        "batch_size = 50\n",
        "\n",
        "train_dataset = SynthDataset(X_train, y_train, treat_train)\n",
        "train_loader = DataLoader(train_dataset, batch_size=batch_size, shuffle=True)\n",
        "\n",
        "test_dataset = SynthDataset(X_test, y_test, treat_test)\n",
        "val_loader = DataLoader(test_dataset, batch_size=batch_size, shuffle=False)"
      ],
      "id": "3VtE-UTV7twm",
      "execution_count": 61,
      "outputs": []
    },
    {
      "cell_type": "code",
      "metadata": {
        "id": "STcPh3_rYozr"
      },
      "source": [
        "input_dim = X.shape[1] + 1\n",
        "hidden_dims = [20, 20, 20, 10]\n",
        "dims = [input_dim] + hidden_dims + [1]\n",
        "\n",
        "layers = []\n",
        "for i in range(len(dims) - 1):\n",
        "    layers.append(nn.Linear(dims[i], dims[i+1]))\n",
        "    layers.append(nn.LeakyReLU())\n",
        "layers[-1] = nn.Sigmoid()\n",
        "model = nn.Sequential(*layers).to(device)"
      ],
      "id": "STcPh3_rYozr",
      "execution_count": 62,
      "outputs": []
    },
    {
      "cell_type": "code",
      "metadata": {
        "id": "iTGSZbUmdk6J"
      },
      "source": [
        "optimizer = torch.optim.Adam(model.parameters(), lr=1e-3)"
      ],
      "id": "iTGSZbUmdk6J",
      "execution_count": 63,
      "outputs": []
    },
    {
      "cell_type": "code",
      "metadata": {
        "id": "mFixVzlWdnjv",
        "colab": {
          "base_uri": "https://localhost:8080/"
        },
        "outputId": "3ba0125e-4aef-4971-9ad8-9f23bf8a0dd5"
      },
      "source": [
        "N_EPOCHS = 50\n",
        "alpha = 0.8\n",
        "p = 0.5\n",
        "\n",
        "train_losses = []\n",
        "test_losses = []\n",
        "test_upl_at_k = []\n",
        "test_quini = []\n",
        "\n",
        "for i in range(N_EPOCHS):\n",
        "\n",
        "    loss_train = []\n",
        "\n",
        "    for data0, data1, target, treat in train_loader:\n",
        "        \n",
        "        optimizer.zero_grad()\n",
        "        preds0 = model(data0).squeeze()\n",
        "        preds1 = model(data1).squeeze()\n",
        "        loss = indirect_loss_function(target, preds0, preds1, alpha, treat, p) + 0.001 * sum([(i ** 2).sum() for i in model.parameters()])\n",
        "        loss.backward()\n",
        "        optimizer.step()\n",
        "        \n",
        "        loss_train.append(loss.item())\n",
        "    loss_train = np.mean(loss_train)\n",
        "\n",
        "    if i % 10 == 0 or i == N_EPOCHS - 1:\n",
        "        with torch.no_grad():\n",
        "            labels_val = []\n",
        "            loss_val = []\n",
        "            upl_at_k_scores = []\n",
        "            quini_scores = []\n",
        "            for data0, data1, target, treat in val_loader:\n",
        "                labels_val += list(target)\n",
        "                preds0 = model(data0).squeeze()\n",
        "                preds1 = model(data1).squeeze()\n",
        "                loss = indirect_loss_function(target, preds0, preds1, alpha, treat, p) + 0.001 * sum([(i ** 2).sum() for i in model.parameters()])\n",
        "                loss_val.append(loss.item())\n",
        "\n",
        "                score = uplift_at_k(target.cpu().numpy(), preds1 - preds0, treat.cpu().numpy(), strategy='by_group', k=0.3)\n",
        "                upl_at_k_scores.append(score)\n",
        "                score = qini_auc_score(target.cpu().numpy(), preds1 - preds0, treat.cpu().numpy())\n",
        "                quini_scores.append(score)\n",
        "\n",
        "            train_losses.append(loss_train)\n",
        "            test_losses.append(np.mean(loss_val))\n",
        "            test_upl_at_k.append(np.mean(upl_at_k_scores))\n",
        "            test_quini.append(np.mean(quini_scores))\n",
        "\n",
        "        print(f'Epoch {i} \\t Loss train {loss_train:.6f} \\t Loss test {np.mean(loss_val):.6f} \\t Uplift at k test {np.mean(upl_at_k_scores):.6f} \\t Quini AUC test {np.mean(quini_scores):.6f}')"
      ],
      "id": "mFixVzlWdnjv",
      "execution_count": 64,
      "outputs": [
        {
          "output_type": "stream",
          "text": [
            "Epoch 0 \t Loss train 0.577876 \t Loss test 0.518127 \t Uplift at k test 0.441825 \t Quini AUC test 0.177023\n",
            "Epoch 10 \t Loss train 0.487359 \t Loss test 0.491602 \t Uplift at k test 0.477600 \t Quini AUC test 0.203868\n",
            "Epoch 20 \t Loss train 0.485785 \t Loss test 0.491731 \t Uplift at k test 0.478680 \t Quini AUC test 0.206099\n",
            "Epoch 30 \t Loss train 0.485274 \t Loss test 0.490078 \t Uplift at k test 0.472513 \t Quini AUC test 0.205923\n",
            "Epoch 40 \t Loss train 0.484666 \t Loss test 0.489500 \t Uplift at k test 0.473318 \t Quini AUC test 0.206078\n",
            "Epoch 50 \t Loss train 0.485336 \t Loss test 0.491046 \t Uplift at k test 0.479469 \t Quini AUC test 0.203581\n",
            "Epoch 60 \t Loss train 0.485444 \t Loss test 0.489187 \t Uplift at k test 0.473421 \t Quini AUC test 0.205560\n",
            "Epoch 70 \t Loss train 0.484534 \t Loss test 0.488873 \t Uplift at k test 0.469940 \t Quini AUC test 0.204711\n",
            "Epoch 80 \t Loss train 0.484652 \t Loss test 0.489501 \t Uplift at k test 0.480417 \t Quini AUC test 0.205908\n",
            "Epoch 90 \t Loss train 0.484793 \t Loss test 0.489508 \t Uplift at k test 0.470400 \t Quini AUC test 0.203684\n"
          ],
          "name": "stdout"
        }
      ]
    },
    {
      "cell_type": "code",
      "metadata": {
        "colab": {
          "base_uri": "https://localhost:8080/",
          "height": 650
        },
        "id": "6wUlPs7i9PiB",
        "outputId": "20cb56bc-c8e8-4eb3-eeb6-917cb0cd9555"
      },
      "source": [
        "import matplotlib.pyplot as plt\n",
        "\n",
        "plt.figure(figsize=(15, 10))\n",
        "plt.plot(train_losses, label='train loss')\n",
        "plt.plot(test_losses, label='test loss')\n",
        "plt.legend()"
      ],
      "id": "6wUlPs7i9PiB",
      "execution_count": 49,
      "outputs": [
        {
          "output_type": "execute_result",
          "data": {
            "text/plain": [
              "<matplotlib.legend.Legend at 0x7f06ad18af10>"
            ]
          },
          "metadata": {
            "tags": []
          },
          "execution_count": 49
        },
        {
          "output_type": "display_data",
          "data": {
            "image/png": "[encoded data removed]",
            "text/plain": [
              "<Figure size 1080x720 with 1 Axes>"
            ]
          },
          "metadata": {
            "tags": []
          }
        }
      ]
    },
    {
      "cell_type": "code",
      "metadata": {
        "id": "_GXYtyay-YVb"
      },
      "source": [
        ""
      ],
      "id": "_GXYtyay-YVb",
      "execution_count": null,
      "outputs": []
    }
  ]
}